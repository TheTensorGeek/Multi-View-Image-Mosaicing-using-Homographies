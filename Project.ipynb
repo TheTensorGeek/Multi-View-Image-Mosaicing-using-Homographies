{
 "cells": [
  {
   "cell_type": "markdown",
   "id": "4758b8b5",
   "metadata": {},
   "source": [
    "# LAB3"
   ]
  },
  {
   "cell_type": "markdown",
   "id": "23ea9557",
   "metadata": {},
   "source": [
    "## SIFT Code\n",
    "Computes point correspondences between two images using sift. I have taken the sift code from NPTEL.\n",
    "\n",
    "    Args:\n",
    "        img1 (np.array): Query image\n",
    "        img2 (np.array): Target image\n",
    "\n",
    "    Returns:\n",
    "        points (np.array): A 2 X num_matches X 2 array.\n",
    "                           `points[0]` are keypoints in img1 and the corresponding\n",
    "                            keypoints in img2 are `points[1]`"
   ]
  },
  {
   "cell_type": "code",
   "execution_count": 1,
   "id": "4316d289",
   "metadata": {},
   "outputs": [],
   "source": [
    "%%capture\n",
    "import numpy as np\n",
    "from scipy.linalg import null_space\n",
    "import cv2\n",
    "\n",
    "def image_size(image):\n",
    "    if image.ndim == 2:\n",
    "        return image.shape\n",
    "    else:\n",
    "        return image.shape[:-1]\n",
    "\n",
    "\n",
    "def sift(img1, img2):\n",
    "    \"\"\"\n",
    "    Computes point correspondences between two images using sift\n",
    "\n",
    "    Args:\n",
    "        img1 (np.array): Query image\n",
    "        img2 (np.array): Target image\n",
    "\n",
    "    Returns:\n",
    "        points (np.array): A 2 X num_matches X 2 array.\n",
    "                           `points[0]` are keypoints in img1 and the corresponding\n",
    "                            keypoints in img2 are `points[1]`\n",
    "    \"\"\"\n",
    "    sift = cv2.xfeatures2d.SIFT_create()\n",
    "    #sift = cv2.SIFT_create()\n",
    "    #kp = sift.detect(gimg,None)\n",
    "\n",
    "    kp1, des1 = sift.detectAndCompute(img1, None)\n",
    "    kp2, des2 = sift.detectAndCompute(img2, None)\n",
    "\n",
    "    FLANN_INDEX_KDTREE = 0\n",
    "    index_params = dict(algorithm=FLANN_INDEX_KDTREE, trees=5)\n",
    "    search_params = dict(checks=50)\n",
    "\n",
    "    flann = cv2.FlannBasedMatcher(index_params, search_params)\n",
    "\n",
    "    matches = flann.knnMatch(des1, des2, k=2)\n",
    "\n",
    "    good_matches = []\n",
    "    for m, n in matches:\n",
    "        if m.distance < 0.7 * n.distance:\n",
    "            good_matches.append(m)\n",
    "\n",
    "    correspondences = np.zeros((2, len(good_matches), 2))\n",
    "\n",
    "    for i, match in enumerate(good_matches):\n",
    "        correspondences[0, i, :] = np.flip(kp1[match.queryIdx].pt)\n",
    "        correspondences[1, i, :] = np.flip(kp2[match.trainIdx].pt)\n",
    "\n",
    "    return correspondences"
   ]
  },
  {
   "cell_type": "markdown",
   "id": "ff670d41",
   "metadata": {},
   "source": [
    "## Computing Corresponding points in img1 and img3 wrt img2\n",
    "  Reading the images and Computing corresponding points using sift function\n",
    "              "
   ]
  },
  {
   "cell_type": "code",
   "execution_count": 2,
   "id": "c304cf10",
   "metadata": {},
   "outputs": [],
   "source": [
    "import cv2 \n",
    "src1=cv2.imread('img1.png',0)\n",
    "src2=cv2.imread('img2.png',0)\n",
    "src3=cv2.imread('img3.png',0)\n",
    "\n",
    "#Run SIFT and obtain matching key points\n",
    "corresp12 = sift(src1,src2)\n",
    "corresp32 = sift(src3,src2)\n",
    "correspa1 = corresp12[0]\n",
    "correspa2 = corresp12[1]\n",
    "correspc1 = corresp32[0]\n",
    "correspc2 = corresp32[1]"
   ]
  },
  {
   "cell_type": "markdown",
   "id": "1be0a5eb",
   "metadata": {},
   "source": [
    "## Importing Neccessary Libraries"
   ]
  },
  {
   "cell_type": "code",
   "execution_count": 3,
   "id": "d791238c",
   "metadata": {},
   "outputs": [],
   "source": [
    "#Import libraries\n",
    "from pylab import *\n",
    "import cv2\n",
    "import random\n",
    "import csv\n",
    "from scipy.linalg import null_space\n",
    "from sympy import *"
   ]
  },
  {
   "cell_type": "markdown",
   "id": "f799e66d",
   "metadata": {},
   "source": [
    "## Bilinear Interpolation\n",
    "Computes the intensity at each point of  the target image by bilinearly interpolating\n",
    "    intensities in the immediate 2 X 2 neighborhood of the corresponding source point of each target point .\n",
    "    \n",
    "    Args:\n",
    "        src (np.array): The source image\n",
    "        H : Homography \n",
    "        rows= rows of the target image \n",
    "        cols= columns of the target image \n",
    "    Returns:\n",
    "        Pixel intensity "
   ]
  },
  {
   "cell_type": "code",
   "execution_count": 4,
   "id": "ddcd93a5",
   "metadata": {},
   "outputs": [],
   "source": [
    "#Bilinear\n",
    "#Rows and columns of the target as input\n",
    "\n",
    "def bilinear_interpolation(src, H, rows, cols) :\n",
    "     #Creating vector to multiply Hinv\n",
    "     x1=[]\n",
    "     y1=[]   \n",
    "     #t= np.array([ti,tj, 1])\n",
    "     #Target to source mapping  \n",
    "     for xn in range(0,rows) :\n",
    "         for yn in range(0,cols) :\n",
    "             xy = array([xn,yn-cenx,1])\n",
    "             xy_temp = np.linalg.inv(H)@ xy\n",
    "            #xy_temp = xy_temp.T\n",
    "             x = xy_temp[0]/xy_temp[2]\n",
    "             y = xy_temp[1]/xy_temp[2]\n",
    "             x1.append(x)\n",
    "             y1.append(y) \n",
    "     #print(shape(x),shape(y))\n",
    "     \n",
    "     #xf = int(np.floor(x)) \n",
    "     #yf = int(np.floor(y))\n",
    "     x2=array(x1)   \n",
    "     y2=array(y1)\n",
    "     xf = x2.astype(int)\n",
    "     yf = y2.astype(int)\n",
    "     \n",
    "     #distance from pixel\n",
    "     a = x2-xf\n",
    "     b = y2-yf\n",
    "     \n",
    "     Ival = np.zeros(shape(xf))\n",
    "     #print(shape(src))\n",
    "     #Find intensity\n",
    "     for i in range(0,len(xf)) :\n",
    "          #if check[i] == False :\n",
    "          if xf[i] < shape(src)[0]-1 and yf[i] < shape(src)[1]-1 and xf[i]>0 and yf[i]>0 :\n",
    "               #print(yf[i])\n",
    "               Ival[i] = (1-a[i])*(1-b[i])*src[xf[i]][yf[i]] + (1-a[i])*(b[i])*src[xf[i]][yf[i]+1] + (a[i])*(1-b[i])*src[xf[i]+1][yf[i]] + (a[i])*(b[i])*src[xf[i]+1][yf[i]+1]\n",
    "\n",
    "     Ival = Ival.reshape(rows,cols)\n",
    "     return Ival"
   ]
  },
  {
   "cell_type": "markdown",
   "id": "152d1aea",
   "metadata": {},
   "source": [
    "## RANSAC\n",
    "Computes a robust homography between the point correspondences using RANSAC\n",
    "    \n",
    "    Args:\n",
    "        corresp1(np.array) : The refernce image points\n",
    "        corresp2(np.array) : The target image corresponding points\n",
    "        \n",
    "    Returns:\n",
    "        np.array: Robust homography"
   ]
  },
  {
   "cell_type": "code",
   "execution_count": 5,
   "id": "4fb14256",
   "metadata": {},
   "outputs": [],
   "source": [
    "#RANSAC\n",
    "def ransac(corresp1,corresp2) :\n",
    "     fraction = 0    ## fraction: is the fraction of inliers\n",
    "     n_iterations = 0  ## No of iterations to run the RANSAC \n",
    "     while(fraction <= 0.95) :      ## If the total inliers are less than 95 percent of all the remaining points\n",
    "             \n",
    "          #Generate 4 random numbers from the set\n",
    "          length = len(corresp1)     ## Total corresponding points of the reference image \n",
    "          r = random.sample(range(0,length),4)      ## Generating 4 random index of the total no of points\n",
    "          a = [corresp1[r[i]] for i in range(0,len(r))]  ## Getting the corresponding points of the index that we got \n",
    "          b = [corresp2[r[i]] for i in range(0,len(r))] \n",
    "          #Take these 4 points and find homography\n",
    "            \n",
    "          #Generatiing the A Matrix\n",
    "          eqns = 4      # No of equations \n",
    "          A = np.zeros((int(2*eqns),9))\n",
    "          #print(shape(A))\n",
    "          #Loop to fill in the values\n",
    "          \"\"\"\n",
    "            For one corresponding points (one equation) we have 2 rows of A like this\n",
    "            [[x,y,1,0,0,0,-x*x',-y*x',-x']    \n",
    "             [0,0,0,x,y,1,-x*y',-y*y',-y']]\n",
    "          \"\"\"\n",
    "          ## Iterating over the four equations to get 8 rows \n",
    "          for i in range(0,eqns) :\n",
    "               A[int(2*i)][0] = b[i][0]               ##x             b[i][0]=x    ## See the equations in notes\n",
    "               A[int(2*i)][1] = b[i][1]               ##y             b[i][1]=y\n",
    "               A[int(2*i)][2] = 1                     ##1             a[i][0]=x'\n",
    "               A[int(2*i)][3] = 0                     ##0             a[i][1]=y'\n",
    "               A[int(2*i)][4] = 0                     ##0\n",
    "               A[int(2*i)][5] = 0                     ##0\n",
    "               A[int(2*i)][6] = -b[i][0]*a[i][0]      ##-x*x'         \n",
    "               A[int(2*i)][7] = -b[i][1]*a[i][0]      ##-y*x'\n",
    "               A[int(2*i)][8] = -a[i][0]              ##-x'\n",
    "               \n",
    "               A[int(2*i)+1][0] = 0                   ##0\n",
    "               A[int(2*i)+1][1] = 0                   ##0\n",
    "               A[int(2*i)+1][2] = 0                   ##0\n",
    "               A[int(2*i)+1][3] = b[i][0]             ##x\n",
    "               A[int(2*i)+1][4] = b[i][1]             ##y\n",
    "               A[int(2*i)+1][5] = 1                   ##1\n",
    "               A[int(2*i)+1][6] = -b[i][0]*a[i][1]    ##-x*y'\n",
    "               A[int(2*i)+1][7] = -b[i][1]*a[i][1]    ##-y*y'\n",
    "               A[int(2*i)+1][8] = -a[i][1]            ##-y'\n",
    "\n",
    "          #Find nullspace of the matrix\n",
    "          h = null_space(A)\n",
    "          #print(shape(h))\n",
    "          #Put h in order\n",
    "          H=h.reshape((3,3))\n",
    "\n",
    "          #Check with remaining points and see fraction         ## set_A.difference(set_B) for (A - B)\n",
    "          B = []     ## Array with the point of interest of the remaining points\n",
    "          remaining_points = list(set(np.arange(0,length)).difference(r))   ## this is the remaining points \n",
    "          \"\"\"\n",
    "          [x\",y\",c].T = H @ [xi,yi,1].T    ## See the equation in the notes\n",
    "          \"\"\"\n",
    "          threshold = 10        ## threshold(in pixels): margin of error\n",
    "          \n",
    "          ## Iterating over all the remaining points\n",
    "          for i in remaining_points :\n",
    "               xi = corresp2[i][0]  \n",
    "               yi = corresp2[i][1]\n",
    "               #X = array([xi,yi,1]).T\n",
    "               [x2,y2,c]= H @ array([xi,yi,1]).T\n",
    "               x3 = x2/c            \n",
    "               y3 = y2/c\n",
    "               # Calculting the distance b/w the point that we got and the point that we actually have \n",
    "               epsilon = np.sqrt(pow(corresp1[i][0]-x3,2) + pow(corresp1[i][1]-y3,2))  \n",
    "               if epsilon < threshold :       \n",
    "                    B.append(i)          ## If the distance is less then the threshold the we append that point in B\n",
    "          #Check how good is the consensus set\n",
    "          fraction = len(B)/len(remaining_points)  \n",
    "          n_iterations = n_iterations+1\n",
    "     return H,fraction,n_iterations,B     "
   ]
  },
  {
   "cell_type": "markdown",
   "id": "b84e7582",
   "metadata": {},
   "source": [
    "## Homography \n",
    "\n",
    "Computing \n",
    "         \n",
    "         H1: Homography Matrix of img1 with respect to img2\n",
    "         H2: Homography Matrix of img3 with respect to img2 \n",
    "         \n",
    "         frac1: Percentage of total inliers wrt H1\n",
    "         frac3: Percentage of total inliers wrt H3       "
   ]
  },
  {
   "cell_type": "code",
   "execution_count": 6,
   "id": "9a6d6452",
   "metadata": {},
   "outputs": [
    {
     "name": "stdout",
     "output_type": "stream",
     "text": [
      "0.9935483870967742 0.9693251533742331\n",
      "[[ 4.85300290e-03  4.25615425e-04 -2.42004504e-01]\n",
      " [-4.08063023e-05  5.37471838e-03 -9.70239741e-01]\n",
      " [-1.20867821e-07  2.13339716e-06  4.00550213e-03]]\n",
      "[[-3.35966116e-03  3.78603860e-04 -1.32185590e-01]\n",
      " [ 1.17315748e-04 -2.56838245e-03 -9.91208453e-01]\n",
      " [ 4.54000790e-07  1.77508802e-06 -3.83818408e-03]]\n",
      "2 1\n"
     ]
    }
   ],
   "source": [
    "H1,frac1,n_iterations1,B1 = ransac(correspa2,correspa1)\n",
    "H3,frac3,n_iterations3,B3 = ransac(correspc2,correspc1)\n",
    "print(frac1,frac3)\n",
    "print(H1)\n",
    "print(H3)\n",
    "print(n_iterations1,n_iterations3)\n",
    "\n",
    "#Define topcorer\n",
    "#print(shape(src1))\n",
    "cenx = int(floor(shape(src1)[1]))"
   ]
  },
  {
   "cell_type": "markdown",
   "id": "a96c96c4",
   "metadata": {},
   "source": [
    "## Creating Canvas \n",
    "Computing:\n",
    "           \n",
    "           canvas1: Canvas of img1 \n",
    "           canvas2: Canvas of img2\n",
    "           canvas3: Canvas of img3"
   ]
  },
  {
   "cell_type": "code",
   "execution_count": 7,
   "id": "210de7ef",
   "metadata": {},
   "outputs": [
    {
     "name": "stdout",
     "output_type": "stream",
     "text": [
      "(360, 1920)\n"
     ]
    }
   ],
   "source": [
    "#Create canvas\n",
    "nrows = shape(src2)[0] ## Rows are same of the target image as we will have the same heigth of the image \n",
    "ncolumns = shape(src1)[1] + shape(src2)[1] + shape(src3)[1] ## Columns are added to get the total columns of our target\n",
    "\n",
    "canvas = np.zeros((nrows,ncolumns))\n",
    "count = np.zeros((nrows,ncolumns))\n",
    "\n",
    "print(canvas.shape)\n",
    "canvas1 = bilinear_interpolation(src1, H1, nrows, ncolumns)\n",
    "canvas2 = bilinear_interpolation(src2, np.identity(3), nrows, ncolumns)\n",
    "canvas3 = bilinear_interpolation(src3, H3, nrows, ncolumns)"
   ]
  },
  {
   "cell_type": "markdown",
   "id": "46b40d39",
   "metadata": {},
   "source": [
    "## Counting how many images contribute at each pixel"
   ]
  },
  {
   "cell_type": "code",
   "execution_count": 8,
   "id": "2c7fe69b",
   "metadata": {},
   "outputs": [],
   "source": [
    "#Finding no of intensities at each point\n",
    "num = np.equal(canvas1,np.zeros(shape(canvas1)))  ## Compares the intensities of canvas one to that of same shape\n",
    "num = ~num           ## giving all the true values where there is intensity \n",
    "num = num.astype(int)  ## converting the boolean into int i.e 1\n",
    "count= count + num  ## getting all the counts of at each pixel point.\n",
    "\n",
    "num = np.equal(canvas2,np.zeros(shape(canvas2)))\n",
    "num = ~num\n",
    "num = num.astype(int)\n",
    "count = count+ num\n",
    "\n",
    "num = np.equal(canvas3,np.zeros(shape(canvas3)))\n",
    "num = ~num\n",
    "num = num.astype(int)\n",
    "count = count + num"
   ]
  },
  {
   "cell_type": "markdown",
   "id": "fd6973ae",
   "metadata": {},
   "source": [
    "## Image Plot"
   ]
  },
  {
   "cell_type": "code",
   "execution_count": 9,
   "id": "b6b79a60",
   "metadata": {},
   "outputs": [
    {
     "data": {
      "image/png": "[encoded data removed]",
      "text/plain": [
       "<Figure size 432x288 with 1 Axes>"
      ]
     },
     "metadata": {
      "needs_background": "light"
     },
     "output_type": "display_data"
    }
   ],
   "source": [
    "#Image plot\n",
    "canvas = canvas1 + canvas3 + canvas2 \n",
    "#final_canvas=canvas/count\n",
    "#np.seterr(invalid= 'ignore')\n",
    "count[count == 0] =  1\n",
    "final_canvas=np.divide(canvas, count)\n",
    "plt.imshow(final_canvas,cmap = \"gray\")\n",
    "plt.axis(\"off\")\n",
    "plt.show()"
   ]
  }
 ],
 "metadata": {
  "kernelspec": {
   "display_name": "Python 3 (ipykernel)",
   "language": "python",
   "name": "python3"
  },
  "language_info": {
   "codemirror_mode": {
    "name": "ipython",
    "version": 3
   },
   "file_extension": ".py",
   "mimetype": "text/x-python",
   "name": "python",
   "nbconvert_exporter": "python",
   "pygments_lexer": "ipython3",
   "version": "3.9.7"
  }
 },
 "nbformat": 4,
 "nbformat_minor": 5
}
